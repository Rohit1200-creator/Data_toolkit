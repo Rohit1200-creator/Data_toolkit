{
  "metadata": {
    "kernelspec": {
      "name": "python",
      "display_name": "Python (Pyodide)",
      "language": "python"
    },
    "language_info": {
      "codemirror_mode": {
        "name": "python",
        "version": 3
      },
      "file_extension": ".py",
      "mimetype": "text/x-python",
      "name": "python",
      "nbconvert_exporter": "python",
      "pygments_lexer": "ipython3",
      "version": "3.8"
    },
    "colab": {
      "provenance": []
    }
  },
  "nbformat_minor": 4,
  "nbformat": 4,
  "cells": [
    {
      "cell_type": "code",
      "source": "#1.Demonstrate three different methods for creating identical 2D arrays in NumPy. Provide the code for each method and the final output after each method.\n\n##Ans..Here are three different methods for creating identical 2D arrays in NumPy:\n\nMethod 1: Using numpy.array()\n\n\nimport numpy as np\n\n# Create a 2D array using numpy.array()\narray1 = np.array([[1, 2, 3], [4, 5, 6]])\n\nprint(array1)\n\n\nOutput:\n\n\n[[1 2 3]\n [4 5 6]]\n\n\nMethod 2: Using numpy.zeros() and assignment\n\n\nimport numpy as np\n\n# Create a 2D array filled with zeros\narray2 = np.zeros((2, 3))\n\n# Assign values to the array\narray2[0, :] = [1, 2, 3]\narray2[1, :] = [4, 5, 6]\n\nprint(array2)\n\n\nOutput:\n\n\n[[1. 2. 3.]\n [4. 5. 6.]]\n\n\nMethod 3: Using numpy.full()\n\n\nimport numpy as np\n\n# Create a 2D array filled with a specified value\narray3 = np.full((2, 3), 0)\n\n# Assign values to the array\narray3[:] = [[1, 2, 3], [4, 5, 6]]\n\nprint(array3)\n\n\nOutput:\n\n\n[[1 2 3]\n [4 5 6]]\n\n\nAll three methods produce identical 2D arrays. Note that in Method 2 and Method 3, the arrays are initially filled with zeros, and then assigned the desired values.\n\n",
      "metadata": {
        "id": "q1PrbEEeW7IY"
      },
      "outputs": [],
      "execution_count": 6
    },
    {
      "cell_type": "code",
      "source": "#2.Using the Numpy function, generate an array of 100 evenly spaced numbers between 1 and 10 and reshape that 1D array into a 2D array.\n\n##Ans.Here's how you can generate an array of 100 evenly spaced numbers between 1 and 10 and reshape it into a 2D array using NumPy:\n\n\nimport numpy as np\n\n# Generate an array of 100 evenly spaced numbers between 1 and 10\narray_1d = np.linspace(1, 10, 100)\n\n# Reshape the 1D array into a 2D array with 10 rows and 10 columns\narray_2d = array_1d.reshape(10, 10)\n\nprint(array_2d)\n\n\n#In this code:\n\n# - np.linspace(1, 10, 100) generates an array of 100 evenly spaced numbers between 1 and 10.\n# - array_1d.reshape(10, 10) reshapes the 1D array into a 2D array with 10 rows and 10 columns.\n\n# The output will be a 2D array with 10 rows and 10 columns, where each element is an evenly spaced number between 1 and 10.",
      "metadata": {
        "colab": {
          "base_uri": "https://localhost:8080/"
        },
        "id": "HcNDNWn_X2KM",
        "outputId": "c0ce9d9b-5eab-490d-870e-a21710b0c810"
      },
      "outputs": [
        {
          "output_type": "stream",
          "name": "stdout",
          "text": [
            "[[ 1.          1.09090909  1.18181818  1.27272727  1.36363636  1.45454545\n",
            "   1.54545455  1.63636364  1.72727273  1.81818182]\n",
            " [ 1.90909091  2.          2.09090909  2.18181818  2.27272727  2.36363636\n",
            "   2.45454545  2.54545455  2.63636364  2.72727273]\n",
            " [ 2.81818182  2.90909091  3.          3.09090909  3.18181818  3.27272727\n",
            "   3.36363636  3.45454545  3.54545455  3.63636364]\n",
            " [ 3.72727273  3.81818182  3.90909091  4.          4.09090909  4.18181818\n",
            "   4.27272727  4.36363636  4.45454545  4.54545455]\n",
            " [ 4.63636364  4.72727273  4.81818182  4.90909091  5.          5.09090909\n",
            "   5.18181818  5.27272727  5.36363636  5.45454545]\n",
            " [ 5.54545455  5.63636364  5.72727273  5.81818182  5.90909091  6.\n",
            "   6.09090909  6.18181818  6.27272727  6.36363636]\n",
            " [ 6.45454545  6.54545455  6.63636364  6.72727273  6.81818182  6.90909091\n",
            "   7.          7.09090909  7.18181818  7.27272727]\n",
            " [ 7.36363636  7.45454545  7.54545455  7.63636364  7.72727273  7.81818182\n",
            "   7.90909091  8.          8.09090909  8.18181818]\n",
            " [ 8.27272727  8.36363636  8.45454545  8.54545455  8.63636364  8.72727273\n",
            "   8.81818182  8.90909091  9.          9.09090909]\n",
            " [ 9.18181818  9.27272727  9.36363636  9.45454545  9.54545455  9.63636364\n",
            "   9.72727273  9.81818182  9.90909091 10.        ]]\n"
          ]
        }
      ],
      "execution_count": 2
    },
    {
      "cell_type": "code",
      "source": "#3.Explain the following terms:\nThe difference in np.array, np.asarray and np.asanyarray.\nThe difference between Deep copy and shallow copy\n\n##Ans.The main differences between np.array, np.asarray, and np.asanyarray are:\n\n1. Data Copying:\n    - np.array always creates a new copy of the input data.\n    - np.asarray creates a new copy only if necessary (e.g., if the input is a list or a non-Numpy array). If the input is already a Numpy array, it returns the original array without copying.\n    - np.asanyarray is similar to np.asarray, but it also allows non-Numpy arrays (like scipy.sparse matrices) to pass through unchanged.\n2. Input Validation:\n    - np.array checks the input data for validity and raises an error if it's not a valid array-like object.\n    - np.asarray and np.asanyarray are more lenient and don't raise errors for invalid inputs. Instead, they try to convert the input to an array.\n3. Output Type:\n    - np.array always returns a Numpy ndarray.\n    - np.asarray returns a Numpy ndarray or a subclass of it (like a numpy.memmap object).\n    - np.asanyarray returns a Numpy ndarray or any other type of array-like object (like a scipy.sparse matrix).\n\nIn summary:\n\n- Use np.array when you want to ensure a new copy of the data is created and you need strict input validation.\n- Use np.asarray when you want to convert an array-like object to a Numpy array without copying if possible.\n- Use np.asanyarray when you want to allow non-Numpy arrays to pass through unchanged and don't need strict input validation.\n\n#In programming, a copy of an object can be either a deep copy or a shallow copy.\n\nShallow Copy:\nA shallow copy of an object creates a new object and then (to the extent possible) inserts references to the original elements into it. This means that:\n\n- The new object is a separate entity from the original object.\n- However, the elements of the new object are the same as the elements of the original object (i.e., they are referenced, not copied).\n\nExample:\n\nimport copy\n\noriginal_list = [[1, 2], [3, 4]]\nshallow_copied_list = copy.copy(original_list)\n\n# Modify the original list\noriginal_list[0][0] = 'X'\n\nprint(original_list)  # Output: [['X', 2], [3, 4]]\nprint(shallow_copied_list)  # Output: [['X', 2], [3, 4]]\n\nAs you can see, modifying the original list also modified the shallow copied list because they share the same elements.\n\nDeep Copy:\nA deep copy of an object creates a new object and then recursively adds the copies of the child objects found in the original object. This means that:\n\n- The new object is a separate entity from the original object.\n- The elements of the new object are copies of the elements of the original object (i.e., they are not referenced).\n\nExample:\n\nimport copy\n\noriginal_list = [[1, 2], [3, 4]]\ndeep_copied_list = copy.deepcopy(original_list)\n\n# Modify the original list\noriginal_list[0][0] = 'X'\n\nprint(original_list)  # Output: [['X', 2], [3, 4]]\nprint(deep_copied_list)  # Output: [[1, 2], [3, 4]]\n\n# As you can see, modifying the original list did not modify the deep copied list because they have separate elements.\n\n# In summary:\n\n# - Shallow copy: New object, same elements (references).\n# - Deep copy: New object, new elements (copies).",
      "metadata": {
        "id": "WlTKFhLnX4ui"
      },
      "outputs": [],
      "execution_count": null
    },
    {
      "cell_type": "code",
      "source": "#4.Generate a 3*3 array with random floating-point numbers between 5 and 20. Then, round each number in the array to 2 decimal places.\n\n##Ans.Here is the code to generate a 3x3 array with random floating-point numbers between 5 and 20, and then round each number in the array to 2 decimal places:\n\n\nimport numpy as np\n\n# Generate a 3x3 array with random floating-point numbers between 5 and 20\narray = np.random.uniform(5, 20, (3, 3))\n\n# Round each number in the array to 2 decimal places\nrounded_array = np.round(array, 2)\n\nprint(rounded_array)\n\n\nHere's an example output:\n\n\n[[12.15 18.92  5.78]\n [ 7.39 19.45 14.95]\n [17.18  6.51 13.29]]\n\n\nNote that the actual output will vary each time you run the code, since it's generating random numbers.",
      "metadata": {
        "id": "80aReZngX5jS"
      },
      "outputs": [],
      "execution_count": null
    },
    {
      "cell_type": "code",
      "source": "#5.Create a NumPy array with random integers between 1 and 10 of shape (5,6 ). After creating the array perform the following operations:\n\n a)Extract all even integers from array.\n\n b)Extract all odd integers from arrayX\n\n##Ans.Creating the NumPy array:\n\n\nimport numpy as np\n\n# Create a NumPy array with random integers between 1 and 10 of shape (5,6)\narray = np.random.randint(1, 11, (5, 6))\n\nprint(\"Original Array:\")\nprint(array)\n\n\na) Extract all even integers from the array:\n\n\neven_integers = array[array % 2 == 0]\nprint(\"\\nEven Integers:\")\nprint(even_integers)\n\n\nb) Extract all odd integers from the array:\n\n\nodd_integers = array[array % 2 != 0]\nprint(\"\\nOdd Integers:\")\nprint(odd_integers)\n\n\nHere's an example output:\n\n\nOriginal Array:\n[[ 9  5  8  3  4  1]\n [10  7  2  9  5  6]\n [ 1  8  3  4  7  2]\n [ 6  5  9  1  8  3]\n [ 4  2  6 10  9  8]]\n\nEven Integers:\n[ 8  4 10  2  6  2  4  6  2  6 10  8  4  2  6  8]\n\nOdd Integers:\n[ 9  5  3  1  7  9  5  1  8  3  7  9  1  3  5  9]\n\n\nNote that the actual output will vary each time you run the code, since it's generating random numbers.",
      "metadata": {
        "id": "HbL5vjyyh7fq"
      },
      "outputs": [],
      "execution_count": null
    },
    {
      "cell_type": "code",
      "source": "#6.Create a 3D NumPy array of shape (3, 3, 3) containing random integers between 1 and 10. Perform the following operations:\n\n a) Find the indices of the maximum values along each depth level (third axis).\n\n b) Perform element-wise multiplication of between both array.\n\n ##Ans.Here is the code to create a 3D NumPy array of shape (3, 3, 3) containing random integers between 1 and 10, find the indices of the maximum values along each depth level, and perform element-wise multiplication between two arrays:\n\n\nimport numpy as np\n\n# Create a 3D NumPy array of shape (3, 3, 3) containing random integers between 1 and 10\narray1 = np.random.randint(1, 11, (3, 3, 3))\narray2 = np.random.randint(1, 11, (3, 3, 3))\n\nprint(\"Array 1:\")\nprint(array1)\nprint(\"Array 2:\")\nprint(array2)\n\n# a) Find the indices of the maximum values along each depth level (third axis)\nmax_indices = np.argmax(array1, axis=2)\nprint(\"\\nIndices of Maximum Values in Array 1:\")\nprint(max_indices)\n\n# b) Perform element-wise multiplication between both arrays\nresult = np.multiply(array1, array2)\nprint(\"\\nElement-wise Multiplication Result:\")\nprint(result)\n\n\nHere's an example output:\n\n\nArray 1:\n[[[ 9  5  8]\n  [ 3  1  6]\n  [ 7  4  2]]\n\n [[ 5  9  3]\n  [ 8  2 10]\n  [ 1  6  9]]\n\n [[10  8  4]\n  [ 2  7  5]\n  [ 3  9  1]]]\n\nArray 2:\n[[[ 2  8  9]\n  [ 5  3  1]\n  [10  6  4]]\n\n [[ 9  1  7]\n  [ 4  5  3]\n  [ 2  8  6]]\n\n [[ 6  3  5]\n  [ 1  9  2]\n  [ 8  4 10]]]\n\nIndices of Maximum Values in Array 1:\n[[0 2 0]\n [1 2 2]\n [0 1 1]]\n\nElement-wise Multiplication Result:\n[[[18 40 72]\n  [15  3  6]\n  [70 24  8]]\n\n [[45  9 21]\n  [32 10 30]\n  [ 2 48 54]]\n\n [[60 24 20]\n  [ 2 63 10]\n  [24 36 10]]]\n\n\nNote that the actual output will vary each time you run the code, since it's generating random numbers.",
      "metadata": {
        "id": "Vc_IpOcQnbiT"
      },
      "outputs": [],
      "execution_count": null
    },
    {
      "cell_type": "code",
      "source": "import pandas as pd",
      "metadata": {
        "trusted": true
      },
      "outputs": [],
      "execution_count": 2
    },
    {
      "cell_type": "code",
      "source": "#7.Clean and transform the 'Phone' column in the sample dataset to remove non-numeric characters and convert it to a numeric data type. Also display the table attributes and data types of each column.\n\n##Ans.\n\ndata = pd.read_csv(\"People Data.csv\")",
      "metadata": {
        "id": "dXGVzFdLvpRl",
        "trusted": true
      },
      "outputs": [],
      "execution_count": 3
    },
    {
      "cell_type": "code",
      "source": "data",
      "metadata": {
        "id": "ES0Jb78BxROv",
        "trusted": true
      },
      "outputs": [
        {
          "execution_count": 4,
          "output_type": "execute_result",
          "data": {
            "text/plain": "     Index          User Id First Name Last Name  Gender  \\\n0        1  8717bbf45cCDbEe     Shelia   Mahoney    Male   \n1        2  3d5AD30A4cD38ed         Jo    Rivers  Female   \n2        3  810Ce0F276Badec     Sheryl    Lowery  Female   \n3        4  BF2a889C00f0cE1    Whitney    Hooper    Male   \n4        5  9afFEafAe1CBBB9    Lindsey      Rice  Female   \n..     ...              ...        ...       ...     ...   \n995    996  fedF4c7Fd9e7cFa       Kurt    Bryant  Female   \n996    997  ECddaFEDdEc4FAB      Donna     Barry  Female   \n997    998  2adde51d8B8979E      Cathy  Mckinney  Female   \n998    999  Fb2FE369D1E171A   Jermaine    Phelps    Male   \n999   1000  8b756f6231DDC6e        Lee      Tran  Female   \n\n                             Email                  Phone Date of birth  \\\n0              pwarner@example.org           857.139.8239    27-01-2014   \n1    fergusonkatherine@example.net                    NaN    26-07-1931   \n2              fhoward@example.org          (599)782-0605    25-11-2013   \n3            zjohnston@example.com                    NaN    17-11-2012   \n4                 elin@example.net     (390)417-1635x3010    15-04-1923   \n..                             ...                    ...           ...   \n995         lyonsdaisy@example.net           021.775.2933    05-01-1959   \n996        dariusbryan@example.com   001-149-710-7799x721    06-10-2001   \n997         georgechan@example.org  +1-750-774-4128x33265    13-05-1918   \n998            wanda04@example.net          (915)292-2254    31-08-1971   \n999        deannablack@example.org     079.752.5424x67259    24-01-1947   \n\n                           Job Title  Salary  \n0                  Probation officer   90000  \n1                             Dancer   80000  \n2                               Copy   50000  \n3           Counselling psychologist   65000  \n4                Biomedical engineer  100000  \n..                               ...     ...  \n995                Personnel officer   90000  \n996          Education administrator   50000  \n997  Commercial/residential surveyor   60000  \n998                 Ambulance person  100000  \n999       Nurse, learning disability   90000  \n\n[1000 rows x 10 columns]",
            "text/html": "<div>\n<style scoped>\n    .dataframe tbody tr th:only-of-type {\n        vertical-align: middle;\n    }\n\n    .dataframe tbody tr th {\n        vertical-align: top;\n    }\n\n    .dataframe thead th {\n        text-align: right;\n    }\n</style>\n<table border=\"1\" class=\"dataframe\">\n  <thead>\n    <tr style=\"text-align: right;\">\n      <th></th>\n      <th>Index</th>\n      <th>User Id</th>\n      <th>First Name</th>\n      <th>Last Name</th>\n      <th>Gender</th>\n      <th>Email</th>\n      <th>Phone</th>\n      <th>Date of birth</th>\n      <th>Job Title</th>\n      <th>Salary</th>\n    </tr>\n  </thead>\n  <tbody>\n    <tr>\n      <th>0</th>\n      <td>1</td>\n      <td>8717bbf45cCDbEe</td>\n      <td>Shelia</td>\n      <td>Mahoney</td>\n      <td>Male</td>\n      <td>pwarner@example.org</td>\n      <td>857.139.8239</td>\n      <td>27-01-2014</td>\n      <td>Probation officer</td>\n      <td>90000</td>\n    </tr>\n    <tr>\n      <th>1</th>\n      <td>2</td>\n      <td>3d5AD30A4cD38ed</td>\n      <td>Jo</td>\n      <td>Rivers</td>\n      <td>Female</td>\n      <td>fergusonkatherine@example.net</td>\n      <td>NaN</td>\n      <td>26-07-1931</td>\n      <td>Dancer</td>\n      <td>80000</td>\n    </tr>\n    <tr>\n      <th>2</th>\n      <td>3</td>\n      <td>810Ce0F276Badec</td>\n      <td>Sheryl</td>\n      <td>Lowery</td>\n      <td>Female</td>\n      <td>fhoward@example.org</td>\n      <td>(599)782-0605</td>\n      <td>25-11-2013</td>\n      <td>Copy</td>\n      <td>50000</td>\n    </tr>\n    <tr>\n      <th>3</th>\n      <td>4</td>\n      <td>BF2a889C00f0cE1</td>\n      <td>Whitney</td>\n      <td>Hooper</td>\n      <td>Male</td>\n      <td>zjohnston@example.com</td>\n      <td>NaN</td>\n      <td>17-11-2012</td>\n      <td>Counselling psychologist</td>\n      <td>65000</td>\n    </tr>\n    <tr>\n      <th>4</th>\n      <td>5</td>\n      <td>9afFEafAe1CBBB9</td>\n      <td>Lindsey</td>\n      <td>Rice</td>\n      <td>Female</td>\n      <td>elin@example.net</td>\n      <td>(390)417-1635x3010</td>\n      <td>15-04-1923</td>\n      <td>Biomedical engineer</td>\n      <td>100000</td>\n    </tr>\n    <tr>\n      <th>...</th>\n      <td>...</td>\n      <td>...</td>\n      <td>...</td>\n      <td>...</td>\n      <td>...</td>\n      <td>...</td>\n      <td>...</td>\n      <td>...</td>\n      <td>...</td>\n      <td>...</td>\n    </tr>\n    <tr>\n      <th>995</th>\n      <td>996</td>\n      <td>fedF4c7Fd9e7cFa</td>\n      <td>Kurt</td>\n      <td>Bryant</td>\n      <td>Female</td>\n      <td>lyonsdaisy@example.net</td>\n      <td>021.775.2933</td>\n      <td>05-01-1959</td>\n      <td>Personnel officer</td>\n      <td>90000</td>\n    </tr>\n    <tr>\n      <th>996</th>\n      <td>997</td>\n      <td>ECddaFEDdEc4FAB</td>\n      <td>Donna</td>\n      <td>Barry</td>\n      <td>Female</td>\n      <td>dariusbryan@example.com</td>\n      <td>001-149-710-7799x721</td>\n      <td>06-10-2001</td>\n      <td>Education administrator</td>\n      <td>50000</td>\n    </tr>\n    <tr>\n      <th>997</th>\n      <td>998</td>\n      <td>2adde51d8B8979E</td>\n      <td>Cathy</td>\n      <td>Mckinney</td>\n      <td>Female</td>\n      <td>georgechan@example.org</td>\n      <td>+1-750-774-4128x33265</td>\n      <td>13-05-1918</td>\n      <td>Commercial/residential surveyor</td>\n      <td>60000</td>\n    </tr>\n    <tr>\n      <th>998</th>\n      <td>999</td>\n      <td>Fb2FE369D1E171A</td>\n      <td>Jermaine</td>\n      <td>Phelps</td>\n      <td>Male</td>\n      <td>wanda04@example.net</td>\n      <td>(915)292-2254</td>\n      <td>31-08-1971</td>\n      <td>Ambulance person</td>\n      <td>100000</td>\n    </tr>\n    <tr>\n      <th>999</th>\n      <td>1000</td>\n      <td>8b756f6231DDC6e</td>\n      <td>Lee</td>\n      <td>Tran</td>\n      <td>Female</td>\n      <td>deannablack@example.org</td>\n      <td>079.752.5424x67259</td>\n      <td>24-01-1947</td>\n      <td>Nurse, learning disability</td>\n      <td>90000</td>\n    </tr>\n  </tbody>\n</table>\n<p>1000 rows × 10 columns</p>\n</div>"
          },
          "metadata": {}
        }
      ],
      "execution_count": 4
    },
    {
      "cell_type": "code",
      "source": "data.info()",
      "metadata": {
        "id": "sZJVoDjFyNiS",
        "trusted": true,
        "scrolled": true
      },
      "outputs": [
        {
          "name": "stdout",
          "text": "<class 'pandas.core.frame.DataFrame'>\nRangeIndex: 1000 entries, 0 to 999\nData columns (total 10 columns):\n #   Column         Non-Null Count  Dtype \n---  ------         --------------  ----- \n 0   Index          1000 non-null   int64 \n 1   User Id        1000 non-null   object\n 2   First Name     1000 non-null   object\n 3   Last Name      1000 non-null   object\n 4   Gender         1000 non-null   object\n 5   Email          1000 non-null   object\n 6   Phone          979 non-null    object\n 7   Date of birth  1000 non-null   object\n 8   Job Title      1000 non-null   object\n 9   Salary         1000 non-null   int64 \ndtypes: int64(2), object(8)\nmemory usage: 46.9+ KB\n",
          "output_type": "stream"
        }
      ],
      "execution_count": 5
    },
    {
      "cell_type": "code",
      "source": "data.dtypes",
      "metadata": {
        "trusted": true
      },
      "outputs": [
        {
          "execution_count": 6,
          "output_type": "execute_result",
          "data": {
            "text/plain": "Index             int64\nUser Id          object\nFirst Name       object\nLast Name        object\nGender           object\nEmail            object\nPhone            object\nDate of birth    object\nJob Title        object\nSalary            int64\ndtype: object"
          },
          "metadata": {}
        }
      ],
      "execution_count": 6
    },
    {
      "cell_type": "code",
      "source": "data = pd.read_csv(\"People Data.csv\", usecols = [\"Phone\"])",
      "metadata": {
        "trusted": true
      },
      "outputs": [],
      "execution_count": 7
    },
    {
      "cell_type": "code",
      "source": "data",
      "metadata": {
        "trusted": true
      },
      "outputs": [
        {
          "execution_count": 8,
          "output_type": "execute_result",
          "data": {
            "text/plain": "                     Phone\n0             857.139.8239\n1                      NaN\n2            (599)782-0605\n3                      NaN\n4       (390)417-1635x3010\n..                     ...\n995           021.775.2933\n996   001-149-710-7799x721\n997  +1-750-774-4128x33265\n998          (915)292-2254\n999     079.752.5424x67259\n\n[1000 rows x 1 columns]",
            "text/html": "<div>\n<style scoped>\n    .dataframe tbody tr th:only-of-type {\n        vertical-align: middle;\n    }\n\n    .dataframe tbody tr th {\n        vertical-align: top;\n    }\n\n    .dataframe thead th {\n        text-align: right;\n    }\n</style>\n<table border=\"1\" class=\"dataframe\">\n  <thead>\n    <tr style=\"text-align: right;\">\n      <th></th>\n      <th>Phone</th>\n    </tr>\n  </thead>\n  <tbody>\n    <tr>\n      <th>0</th>\n      <td>857.139.8239</td>\n    </tr>\n    <tr>\n      <th>1</th>\n      <td>NaN</td>\n    </tr>\n    <tr>\n      <th>2</th>\n      <td>(599)782-0605</td>\n    </tr>\n    <tr>\n      <th>3</th>\n      <td>NaN</td>\n    </tr>\n    <tr>\n      <th>4</th>\n      <td>(390)417-1635x3010</td>\n    </tr>\n    <tr>\n      <th>...</th>\n      <td>...</td>\n    </tr>\n    <tr>\n      <th>995</th>\n      <td>021.775.2933</td>\n    </tr>\n    <tr>\n      <th>996</th>\n      <td>001-149-710-7799x721</td>\n    </tr>\n    <tr>\n      <th>997</th>\n      <td>+1-750-774-4128x33265</td>\n    </tr>\n    <tr>\n      <th>998</th>\n      <td>(915)292-2254</td>\n    </tr>\n    <tr>\n      <th>999</th>\n      <td>079.752.5424x67259</td>\n    </tr>\n  </tbody>\n</table>\n<p>1000 rows × 1 columns</p>\n</div>"
          },
          "metadata": {}
        }
      ],
      "execution_count": 8
    },
    {
      "cell_type": "code",
      "source": "df = pd.DataFrame(data)",
      "metadata": {
        "trusted": true
      },
      "outputs": [],
      "execution_count": 9
    },
    {
      "cell_type": "code",
      "source": "df",
      "metadata": {
        "trusted": true
      },
      "outputs": [
        {
          "execution_count": 10,
          "output_type": "execute_result",
          "data": {
            "text/plain": "                     Phone\n0             857.139.8239\n1                      NaN\n2            (599)782-0605\n3                      NaN\n4       (390)417-1635x3010\n..                     ...\n995           021.775.2933\n996   001-149-710-7799x721\n997  +1-750-774-4128x33265\n998          (915)292-2254\n999     079.752.5424x67259\n\n[1000 rows x 1 columns]",
            "text/html": "<div>\n<style scoped>\n    .dataframe tbody tr th:only-of-type {\n        vertical-align: middle;\n    }\n\n    .dataframe tbody tr th {\n        vertical-align: top;\n    }\n\n    .dataframe thead th {\n        text-align: right;\n    }\n</style>\n<table border=\"1\" class=\"dataframe\">\n  <thead>\n    <tr style=\"text-align: right;\">\n      <th></th>\n      <th>Phone</th>\n    </tr>\n  </thead>\n  <tbody>\n    <tr>\n      <th>0</th>\n      <td>857.139.8239</td>\n    </tr>\n    <tr>\n      <th>1</th>\n      <td>NaN</td>\n    </tr>\n    <tr>\n      <th>2</th>\n      <td>(599)782-0605</td>\n    </tr>\n    <tr>\n      <th>3</th>\n      <td>NaN</td>\n    </tr>\n    <tr>\n      <th>4</th>\n      <td>(390)417-1635x3010</td>\n    </tr>\n    <tr>\n      <th>...</th>\n      <td>...</td>\n    </tr>\n    <tr>\n      <th>995</th>\n      <td>021.775.2933</td>\n    </tr>\n    <tr>\n      <th>996</th>\n      <td>001-149-710-7799x721</td>\n    </tr>\n    <tr>\n      <th>997</th>\n      <td>+1-750-774-4128x33265</td>\n    </tr>\n    <tr>\n      <th>998</th>\n      <td>(915)292-2254</td>\n    </tr>\n    <tr>\n      <th>999</th>\n      <td>079.752.5424x67259</td>\n    </tr>\n  </tbody>\n</table>\n<p>1000 rows × 1 columns</p>\n</div>"
          },
          "metadata": {}
        }
      ],
      "execution_count": 10
    },
    {
      "cell_type": "code",
      "source": "# Display original data types\nprint(\"Original Data Types:\")\nprint(df.dtypes)",
      "metadata": {
        "trusted": true
      },
      "outputs": [
        {
          "name": "stdout",
          "text": "Original Data Types:\nPhone    object\ndtype: object\n",
          "output_type": "stream"
        }
      ],
      "execution_count": 11
    },
    {
      "cell_type": "code",
      "source": "# Clean and transform the 'Phone' column\ndf['Phone'] = df['Phone'].str.replace(r'\\D', '', regex = True)\n",
      "metadata": {
        "trusted": true
      },
      "outputs": [],
      "execution_count": 13
    },
    {
      "cell_type": "code",
      "source": "df",
      "metadata": {
        "trusted": true
      },
      "outputs": [
        {
          "execution_count": 14,
          "output_type": "execute_result",
          "data": {
            "text/plain": "                Phone\n0          8571398239\n1                 NaN\n2          5997820605\n3                 NaN\n4      39041716353010\n..                ...\n995        0217752933\n996  0011497107799721\n997  1750774412833265\n998        9152922254\n999   079752542467259\n\n[1000 rows x 1 columns]",
            "text/html": "<div>\n<style scoped>\n    .dataframe tbody tr th:only-of-type {\n        vertical-align: middle;\n    }\n\n    .dataframe tbody tr th {\n        vertical-align: top;\n    }\n\n    .dataframe thead th {\n        text-align: right;\n    }\n</style>\n<table border=\"1\" class=\"dataframe\">\n  <thead>\n    <tr style=\"text-align: right;\">\n      <th></th>\n      <th>Phone</th>\n    </tr>\n  </thead>\n  <tbody>\n    <tr>\n      <th>0</th>\n      <td>8571398239</td>\n    </tr>\n    <tr>\n      <th>1</th>\n      <td>NaN</td>\n    </tr>\n    <tr>\n      <th>2</th>\n      <td>5997820605</td>\n    </tr>\n    <tr>\n      <th>3</th>\n      <td>NaN</td>\n    </tr>\n    <tr>\n      <th>4</th>\n      <td>39041716353010</td>\n    </tr>\n    <tr>\n      <th>...</th>\n      <td>...</td>\n    </tr>\n    <tr>\n      <th>995</th>\n      <td>0217752933</td>\n    </tr>\n    <tr>\n      <th>996</th>\n      <td>0011497107799721</td>\n    </tr>\n    <tr>\n      <th>997</th>\n      <td>1750774412833265</td>\n    </tr>\n    <tr>\n      <th>998</th>\n      <td>9152922254</td>\n    </tr>\n    <tr>\n      <th>999</th>\n      <td>079752542467259</td>\n    </tr>\n  </tbody>\n</table>\n<p>1000 rows × 1 columns</p>\n</div>"
          },
          "metadata": {}
        }
      ],
      "execution_count": 14
    },
    {
      "cell_type": "code",
      "source": "df.dtypes",
      "metadata": {
        "trusted": true
      },
      "outputs": [
        {
          "execution_count": 15,
          "output_type": "execute_result",
          "data": {
            "text/plain": "Phone    object\ndtype: object"
          },
          "metadata": {}
        }
      ],
      "execution_count": 15
    },
    {
      "cell_type": "code",
      "source": "df.info()",
      "metadata": {
        "trusted": true
      },
      "outputs": [
        {
          "name": "stdout",
          "text": "<class 'pandas.core.frame.DataFrame'>\nRangeIndex: 1000 entries, 0 to 999\nData columns (total 1 columns):\n #   Column  Non-Null Count  Dtype \n---  ------  --------------  ----- \n 0   Phone   979 non-null    object\ndtypes: object(1)\nmemory usage: 4.0+ KB\n",
          "output_type": "stream"
        }
      ],
      "execution_count": 16
    },
    {
      "cell_type": "code",
      "source": "# Display cleaned data\nprint(\"\\nCleaned Data:\")\nprint(df)",
      "metadata": {
        "trusted": true
      },
      "outputs": [
        {
          "name": "stdout",
          "text": "\nCleaned Data:\n                Phone\n0          8571398239\n1                 NaN\n2          5997820605\n3                 NaN\n4      39041716353010\n..                ...\n995        0217752933\n996  0011497107799721\n997  1750774412833265\n998        9152922254\n999   079752542467259\n\n[1000 rows x 1 columns]\n",
          "output_type": "stream"
        }
      ],
      "execution_count": 17
    },
    {
      "cell_type": "code",
      "source": "# Display updated data types\nprint(\"\\nUpdated Data Types:\")\nprint(df.dtypes)",
      "metadata": {
        "trusted": true
      },
      "outputs": [
        {
          "name": "stdout",
          "text": "\nUpdated Data Types:\nPhone    object\ndtype: object\n",
          "output_type": "stream"
        }
      ],
      "execution_count": 18
    },
    {
      "cell_type": "code",
      "source": "#8. Perform the following tasks using people dataset:\n# a) Read the 'data.csv' file using pandas, skipping the first 50 rows.\n# b) Only read the columns: 'Last Name', ‘Gender’,’Email’,‘Phone’ and ‘Salary’ from the file.\n# c) Display the first 10 rows of the filtered dataset.\n# d) Extract the ‘Salary’' column as a Series and display its last 5 values.",
      "metadata": {
        "trusted": true
      },
      "outputs": [],
      "execution_count": 29
    },
    {
      "cell_type": "code",
      "source": "\n##Ans.\n#a)Read the 'People Data.csv' file using pandas, skipping the first 50 rows.\n\n#Here's how you can read the 'People Data.csv' file using pandas, skipping the first 50 rows:\n\n\nimport pandas as pd\n\n# Read the 'data.csv' file, skipping the first 50 rows\ndf = pd.read_csv('People Data.csv', skiprows=50)\n\n# Display the first few rows of the dataframe\nprint(df.head())\n\n\n#In this code:\n\n#- pd.read_csv('People Data.csv') reads the 'data.csv' file into a pandas DataFrame.\n# - skiprows=50 skips the first 50 rows of the file.\n# - df.head() displays the first few rows of the DataFrame",
      "metadata": {
        "trusted": true
      },
      "outputs": [],
      "execution_count": null
    },
    {
      "cell_type": "code",
      "source": "df",
      "metadata": {
        "trusted": true
      },
      "outputs": [
        {
          "execution_count": 30,
          "output_type": "execute_result",
          "data": {
            "text/plain": "       50  afF3018e9cdd1dA     George    Mercer  Female  \\\n0      51  CccE5DAb6E288e5         Jo    Zavala    Male   \n1      52  DfBDc3621D4bcec     Joshua     Carey  Female   \n2      53  f55b0A249f5E44D     Rickey     Hobbs  Female   \n3      54  Ed71DcfaBFd0beE      Robyn    Reilly    Male   \n4      55  FDaFD0c3f5387EC  Christina    Conrad    Male   \n..    ...              ...        ...       ...     ...   \n945   996  fedF4c7Fd9e7cFa       Kurt    Bryant  Female   \n946   997  ECddaFEDdEc4FAB      Donna     Barry  Female   \n947   998  2adde51d8B8979E      Cathy  Mckinney  Female   \n948   999  Fb2FE369D1E171A   Jermaine    Phelps    Male   \n949  1000  8b756f6231DDC6e        Lee      Tran  Female   \n\n    douglascontreras@example.net    +1-326-669-0118x4341  11-09-1941  \\\n0           pamela64@example.net  001-859-448-9935x54536  23-11-1992   \n1      dianashepherd@example.net    001-274-739-8470x814  07-01-1915   \n2      ingramtiffany@example.org        241.179.9509x498  01-07-1910   \n3     carriecrawford@example.org       207.797.8345x6177  27-07-1982   \n4     fuentesclaudia@example.net    001-599-042-7428x143  06-01-1998   \n..                           ...                     ...         ...   \n945       lyonsdaisy@example.net            021.775.2933  05-01-1959   \n946      dariusbryan@example.com    001-149-710-7799x721  06-10-2001   \n947       georgechan@example.org   +1-750-774-4128x33265  13-05-1918   \n948          wanda04@example.net           (915)292-2254  31-08-1971   \n949      deannablack@example.org      079.752.5424x67259  24-01-1947   \n\n             Human resources officer   70000  \n0                       Nurse, adult   80000  \n1                Seismic interpreter   70000  \n2                          Barrister   60000  \n3               Engineer, structural  100000  \n4                    Producer, radio   50000  \n..                               ...     ...  \n945                Personnel officer   90000  \n946          Education administrator   50000  \n947  Commercial/residential surveyor   60000  \n948                 Ambulance person  100000  \n949       Nurse, learning disability   90000  \n\n[950 rows x 10 columns]",
            "text/html": "<div>\n<style scoped>\n    .dataframe tbody tr th:only-of-type {\n        vertical-align: middle;\n    }\n\n    .dataframe tbody tr th {\n        vertical-align: top;\n    }\n\n    .dataframe thead th {\n        text-align: right;\n    }\n</style>\n<table border=\"1\" class=\"dataframe\">\n  <thead>\n    <tr style=\"text-align: right;\">\n      <th></th>\n      <th>50</th>\n      <th>afF3018e9cdd1dA</th>\n      <th>George</th>\n      <th>Mercer</th>\n      <th>Female</th>\n      <th>douglascontreras@example.net</th>\n      <th>+1-326-669-0118x4341</th>\n      <th>11-09-1941</th>\n      <th>Human resources officer</th>\n      <th>70000</th>\n    </tr>\n  </thead>\n  <tbody>\n    <tr>\n      <th>0</th>\n      <td>51</td>\n      <td>CccE5DAb6E288e5</td>\n      <td>Jo</td>\n      <td>Zavala</td>\n      <td>Male</td>\n      <td>pamela64@example.net</td>\n      <td>001-859-448-9935x54536</td>\n      <td>23-11-1992</td>\n      <td>Nurse, adult</td>\n      <td>80000</td>\n    </tr>\n    <tr>\n      <th>1</th>\n      <td>52</td>\n      <td>DfBDc3621D4bcec</td>\n      <td>Joshua</td>\n      <td>Carey</td>\n      <td>Female</td>\n      <td>dianashepherd@example.net</td>\n      <td>001-274-739-8470x814</td>\n      <td>07-01-1915</td>\n      <td>Seismic interpreter</td>\n      <td>70000</td>\n    </tr>\n    <tr>\n      <th>2</th>\n      <td>53</td>\n      <td>f55b0A249f5E44D</td>\n      <td>Rickey</td>\n      <td>Hobbs</td>\n      <td>Female</td>\n      <td>ingramtiffany@example.org</td>\n      <td>241.179.9509x498</td>\n      <td>01-07-1910</td>\n      <td>Barrister</td>\n      <td>60000</td>\n    </tr>\n    <tr>\n      <th>3</th>\n      <td>54</td>\n      <td>Ed71DcfaBFd0beE</td>\n      <td>Robyn</td>\n      <td>Reilly</td>\n      <td>Male</td>\n      <td>carriecrawford@example.org</td>\n      <td>207.797.8345x6177</td>\n      <td>27-07-1982</td>\n      <td>Engineer, structural</td>\n      <td>100000</td>\n    </tr>\n    <tr>\n      <th>4</th>\n      <td>55</td>\n      <td>FDaFD0c3f5387EC</td>\n      <td>Christina</td>\n      <td>Conrad</td>\n      <td>Male</td>\n      <td>fuentesclaudia@example.net</td>\n      <td>001-599-042-7428x143</td>\n      <td>06-01-1998</td>\n      <td>Producer, radio</td>\n      <td>50000</td>\n    </tr>\n    <tr>\n      <th>...</th>\n      <td>...</td>\n      <td>...</td>\n      <td>...</td>\n      <td>...</td>\n      <td>...</td>\n      <td>...</td>\n      <td>...</td>\n      <td>...</td>\n      <td>...</td>\n      <td>...</td>\n    </tr>\n    <tr>\n      <th>945</th>\n      <td>996</td>\n      <td>fedF4c7Fd9e7cFa</td>\n      <td>Kurt</td>\n      <td>Bryant</td>\n      <td>Female</td>\n      <td>lyonsdaisy@example.net</td>\n      <td>021.775.2933</td>\n      <td>05-01-1959</td>\n      <td>Personnel officer</td>\n      <td>90000</td>\n    </tr>\n    <tr>\n      <th>946</th>\n      <td>997</td>\n      <td>ECddaFEDdEc4FAB</td>\n      <td>Donna</td>\n      <td>Barry</td>\n      <td>Female</td>\n      <td>dariusbryan@example.com</td>\n      <td>001-149-710-7799x721</td>\n      <td>06-10-2001</td>\n      <td>Education administrator</td>\n      <td>50000</td>\n    </tr>\n    <tr>\n      <th>947</th>\n      <td>998</td>\n      <td>2adde51d8B8979E</td>\n      <td>Cathy</td>\n      <td>Mckinney</td>\n      <td>Female</td>\n      <td>georgechan@example.org</td>\n      <td>+1-750-774-4128x33265</td>\n      <td>13-05-1918</td>\n      <td>Commercial/residential surveyor</td>\n      <td>60000</td>\n    </tr>\n    <tr>\n      <th>948</th>\n      <td>999</td>\n      <td>Fb2FE369D1E171A</td>\n      <td>Jermaine</td>\n      <td>Phelps</td>\n      <td>Male</td>\n      <td>wanda04@example.net</td>\n      <td>(915)292-2254</td>\n      <td>31-08-1971</td>\n      <td>Ambulance person</td>\n      <td>100000</td>\n    </tr>\n    <tr>\n      <th>949</th>\n      <td>1000</td>\n      <td>8b756f6231DDC6e</td>\n      <td>Lee</td>\n      <td>Tran</td>\n      <td>Female</td>\n      <td>deannablack@example.org</td>\n      <td>079.752.5424x67259</td>\n      <td>24-01-1947</td>\n      <td>Nurse, learning disability</td>\n      <td>90000</td>\n    </tr>\n  </tbody>\n</table>\n<p>950 rows × 10 columns</p>\n</div>"
          },
          "metadata": {}
        }
      ],
      "execution_count": 30
    },
    {
      "cell_type": "code",
      "source": "print(df.head())",
      "metadata": {
        "trusted": true
      },
      "outputs": [
        {
          "name": "stdout",
          "text": "   50  afF3018e9cdd1dA     George  Mercer  Female  \\\n0  51  CccE5DAb6E288e5         Jo  Zavala    Male   \n1  52  DfBDc3621D4bcec     Joshua   Carey  Female   \n2  53  f55b0A249f5E44D     Rickey   Hobbs  Female   \n3  54  Ed71DcfaBFd0beE      Robyn  Reilly    Male   \n4  55  FDaFD0c3f5387EC  Christina  Conrad    Male   \n\n  douglascontreras@example.net    +1-326-669-0118x4341  11-09-1941  \\\n0         pamela64@example.net  001-859-448-9935x54536  23-11-1992   \n1    dianashepherd@example.net    001-274-739-8470x814  07-01-1915   \n2    ingramtiffany@example.org        241.179.9509x498  01-07-1910   \n3   carriecrawford@example.org       207.797.8345x6177  27-07-1982   \n4   fuentesclaudia@example.net    001-599-042-7428x143  06-01-1998   \n\n  Human resources officer   70000  \n0            Nurse, adult   80000  \n1     Seismic interpreter   70000  \n2               Barrister   60000  \n3    Engineer, structural  100000  \n4         Producer, radio   50000  \n",
          "output_type": "stream"
        }
      ],
      "execution_count": 31
    },
    {
      "cell_type": "code",
      "source": "df = pd.read_csv('People Data.csv')",
      "metadata": {
        "trusted": true
      },
      "outputs": [],
      "execution_count": 33
    },
    {
      "cell_type": "code",
      "source": "df",
      "metadata": {
        "trusted": true
      },
      "outputs": [
        {
          "execution_count": 34,
          "output_type": "execute_result",
          "data": {
            "text/plain": "     Index          User Id First Name Last Name  Gender  \\\n0        1  8717bbf45cCDbEe     Shelia   Mahoney    Male   \n1        2  3d5AD30A4cD38ed         Jo    Rivers  Female   \n2        3  810Ce0F276Badec     Sheryl    Lowery  Female   \n3        4  BF2a889C00f0cE1    Whitney    Hooper    Male   \n4        5  9afFEafAe1CBBB9    Lindsey      Rice  Female   \n..     ...              ...        ...       ...     ...   \n995    996  fedF4c7Fd9e7cFa       Kurt    Bryant  Female   \n996    997  ECddaFEDdEc4FAB      Donna     Barry  Female   \n997    998  2adde51d8B8979E      Cathy  Mckinney  Female   \n998    999  Fb2FE369D1E171A   Jermaine    Phelps    Male   \n999   1000  8b756f6231DDC6e        Lee      Tran  Female   \n\n                             Email                  Phone Date of birth  \\\n0              pwarner@example.org           857.139.8239    27-01-2014   \n1    fergusonkatherine@example.net                    NaN    26-07-1931   \n2              fhoward@example.org          (599)782-0605    25-11-2013   \n3            zjohnston@example.com                    NaN    17-11-2012   \n4                 elin@example.net     (390)417-1635x3010    15-04-1923   \n..                             ...                    ...           ...   \n995         lyonsdaisy@example.net           021.775.2933    05-01-1959   \n996        dariusbryan@example.com   001-149-710-7799x721    06-10-2001   \n997         georgechan@example.org  +1-750-774-4128x33265    13-05-1918   \n998            wanda04@example.net          (915)292-2254    31-08-1971   \n999        deannablack@example.org     079.752.5424x67259    24-01-1947   \n\n                           Job Title  Salary  \n0                  Probation officer   90000  \n1                             Dancer   80000  \n2                               Copy   50000  \n3           Counselling psychologist   65000  \n4                Biomedical engineer  100000  \n..                               ...     ...  \n995                Personnel officer   90000  \n996          Education administrator   50000  \n997  Commercial/residential surveyor   60000  \n998                 Ambulance person  100000  \n999       Nurse, learning disability   90000  \n\n[1000 rows x 10 columns]",
            "text/html": "<div>\n<style scoped>\n    .dataframe tbody tr th:only-of-type {\n        vertical-align: middle;\n    }\n\n    .dataframe tbody tr th {\n        vertical-align: top;\n    }\n\n    .dataframe thead th {\n        text-align: right;\n    }\n</style>\n<table border=\"1\" class=\"dataframe\">\n  <thead>\n    <tr style=\"text-align: right;\">\n      <th></th>\n      <th>Index</th>\n      <th>User Id</th>\n      <th>First Name</th>\n      <th>Last Name</th>\n      <th>Gender</th>\n      <th>Email</th>\n      <th>Phone</th>\n      <th>Date of birth</th>\n      <th>Job Title</th>\n      <th>Salary</th>\n    </tr>\n  </thead>\n  <tbody>\n    <tr>\n      <th>0</th>\n      <td>1</td>\n      <td>8717bbf45cCDbEe</td>\n      <td>Shelia</td>\n      <td>Mahoney</td>\n      <td>Male</td>\n      <td>pwarner@example.org</td>\n      <td>857.139.8239</td>\n      <td>27-01-2014</td>\n      <td>Probation officer</td>\n      <td>90000</td>\n    </tr>\n    <tr>\n      <th>1</th>\n      <td>2</td>\n      <td>3d5AD30A4cD38ed</td>\n      <td>Jo</td>\n      <td>Rivers</td>\n      <td>Female</td>\n      <td>fergusonkatherine@example.net</td>\n      <td>NaN</td>\n      <td>26-07-1931</td>\n      <td>Dancer</td>\n      <td>80000</td>\n    </tr>\n    <tr>\n      <th>2</th>\n      <td>3</td>\n      <td>810Ce0F276Badec</td>\n      <td>Sheryl</td>\n      <td>Lowery</td>\n      <td>Female</td>\n      <td>fhoward@example.org</td>\n      <td>(599)782-0605</td>\n      <td>25-11-2013</td>\n      <td>Copy</td>\n      <td>50000</td>\n    </tr>\n    <tr>\n      <th>3</th>\n      <td>4</td>\n      <td>BF2a889C00f0cE1</td>\n      <td>Whitney</td>\n      <td>Hooper</td>\n      <td>Male</td>\n      <td>zjohnston@example.com</td>\n      <td>NaN</td>\n      <td>17-11-2012</td>\n      <td>Counselling psychologist</td>\n      <td>65000</td>\n    </tr>\n    <tr>\n      <th>4</th>\n      <td>5</td>\n      <td>9afFEafAe1CBBB9</td>\n      <td>Lindsey</td>\n      <td>Rice</td>\n      <td>Female</td>\n      <td>elin@example.net</td>\n      <td>(390)417-1635x3010</td>\n      <td>15-04-1923</td>\n      <td>Biomedical engineer</td>\n      <td>100000</td>\n    </tr>\n    <tr>\n      <th>...</th>\n      <td>...</td>\n      <td>...</td>\n      <td>...</td>\n      <td>...</td>\n      <td>...</td>\n      <td>...</td>\n      <td>...</td>\n      <td>...</td>\n      <td>...</td>\n      <td>...</td>\n    </tr>\n    <tr>\n      <th>995</th>\n      <td>996</td>\n      <td>fedF4c7Fd9e7cFa</td>\n      <td>Kurt</td>\n      <td>Bryant</td>\n      <td>Female</td>\n      <td>lyonsdaisy@example.net</td>\n      <td>021.775.2933</td>\n      <td>05-01-1959</td>\n      <td>Personnel officer</td>\n      <td>90000</td>\n    </tr>\n    <tr>\n      <th>996</th>\n      <td>997</td>\n      <td>ECddaFEDdEc4FAB</td>\n      <td>Donna</td>\n      <td>Barry</td>\n      <td>Female</td>\n      <td>dariusbryan@example.com</td>\n      <td>001-149-710-7799x721</td>\n      <td>06-10-2001</td>\n      <td>Education administrator</td>\n      <td>50000</td>\n    </tr>\n    <tr>\n      <th>997</th>\n      <td>998</td>\n      <td>2adde51d8B8979E</td>\n      <td>Cathy</td>\n      <td>Mckinney</td>\n      <td>Female</td>\n      <td>georgechan@example.org</td>\n      <td>+1-750-774-4128x33265</td>\n      <td>13-05-1918</td>\n      <td>Commercial/residential surveyor</td>\n      <td>60000</td>\n    </tr>\n    <tr>\n      <th>998</th>\n      <td>999</td>\n      <td>Fb2FE369D1E171A</td>\n      <td>Jermaine</td>\n      <td>Phelps</td>\n      <td>Male</td>\n      <td>wanda04@example.net</td>\n      <td>(915)292-2254</td>\n      <td>31-08-1971</td>\n      <td>Ambulance person</td>\n      <td>100000</td>\n    </tr>\n    <tr>\n      <th>999</th>\n      <td>1000</td>\n      <td>8b756f6231DDC6e</td>\n      <td>Lee</td>\n      <td>Tran</td>\n      <td>Female</td>\n      <td>deannablack@example.org</td>\n      <td>079.752.5424x67259</td>\n      <td>24-01-1947</td>\n      <td>Nurse, learning disability</td>\n      <td>90000</td>\n    </tr>\n  </tbody>\n</table>\n<p>1000 rows × 10 columns</p>\n</div>"
          },
          "metadata": {}
        }
      ],
      "execution_count": 34
    },
    {
      "cell_type": "code",
      "source": "# b) Only read the columns: 'Last Name', ‘Gender’,’Email’,‘Phone’ and ‘Salary’ from the file.\n\n#Here's how you can read only the specified columns from the 'People Data.csv' file:\n\ndf = pd.read_csv('People Data.csv', usecols=['Last Name', 'Gender', 'Email', 'Phone', 'Salary'])\n",
      "metadata": {
        "trusted": true
      },
      "outputs": [],
      "execution_count": 35
    },
    {
      "cell_type": "code",
      "source": "df",
      "metadata": {
        "trusted": true
      },
      "outputs": [
        {
          "execution_count": 36,
          "output_type": "execute_result",
          "data": {
            "text/plain": "    Last Name  Gender                          Email                  Phone  \\\n0     Mahoney    Male            pwarner@example.org           857.139.8239   \n1      Rivers  Female  fergusonkatherine@example.net                    NaN   \n2      Lowery  Female            fhoward@example.org          (599)782-0605   \n3      Hooper    Male          zjohnston@example.com                    NaN   \n4        Rice  Female               elin@example.net     (390)417-1635x3010   \n..        ...     ...                            ...                    ...   \n995    Bryant  Female         lyonsdaisy@example.net           021.775.2933   \n996     Barry  Female        dariusbryan@example.com   001-149-710-7799x721   \n997  Mckinney  Female         georgechan@example.org  +1-750-774-4128x33265   \n998    Phelps    Male            wanda04@example.net          (915)292-2254   \n999      Tran  Female        deannablack@example.org     079.752.5424x67259   \n\n     Salary  \n0     90000  \n1     80000  \n2     50000  \n3     65000  \n4    100000  \n..      ...  \n995   90000  \n996   50000  \n997   60000  \n998  100000  \n999   90000  \n\n[1000 rows x 5 columns]",
            "text/html": "<div>\n<style scoped>\n    .dataframe tbody tr th:only-of-type {\n        vertical-align: middle;\n    }\n\n    .dataframe tbody tr th {\n        vertical-align: top;\n    }\n\n    .dataframe thead th {\n        text-align: right;\n    }\n</style>\n<table border=\"1\" class=\"dataframe\">\n  <thead>\n    <tr style=\"text-align: right;\">\n      <th></th>\n      <th>Last Name</th>\n      <th>Gender</th>\n      <th>Email</th>\n      <th>Phone</th>\n      <th>Salary</th>\n    </tr>\n  </thead>\n  <tbody>\n    <tr>\n      <th>0</th>\n      <td>Mahoney</td>\n      <td>Male</td>\n      <td>pwarner@example.org</td>\n      <td>857.139.8239</td>\n      <td>90000</td>\n    </tr>\n    <tr>\n      <th>1</th>\n      <td>Rivers</td>\n      <td>Female</td>\n      <td>fergusonkatherine@example.net</td>\n      <td>NaN</td>\n      <td>80000</td>\n    </tr>\n    <tr>\n      <th>2</th>\n      <td>Lowery</td>\n      <td>Female</td>\n      <td>fhoward@example.org</td>\n      <td>(599)782-0605</td>\n      <td>50000</td>\n    </tr>\n    <tr>\n      <th>3</th>\n      <td>Hooper</td>\n      <td>Male</td>\n      <td>zjohnston@example.com</td>\n      <td>NaN</td>\n      <td>65000</td>\n    </tr>\n    <tr>\n      <th>4</th>\n      <td>Rice</td>\n      <td>Female</td>\n      <td>elin@example.net</td>\n      <td>(390)417-1635x3010</td>\n      <td>100000</td>\n    </tr>\n    <tr>\n      <th>...</th>\n      <td>...</td>\n      <td>...</td>\n      <td>...</td>\n      <td>...</td>\n      <td>...</td>\n    </tr>\n    <tr>\n      <th>995</th>\n      <td>Bryant</td>\n      <td>Female</td>\n      <td>lyonsdaisy@example.net</td>\n      <td>021.775.2933</td>\n      <td>90000</td>\n    </tr>\n    <tr>\n      <th>996</th>\n      <td>Barry</td>\n      <td>Female</td>\n      <td>dariusbryan@example.com</td>\n      <td>001-149-710-7799x721</td>\n      <td>50000</td>\n    </tr>\n    <tr>\n      <th>997</th>\n      <td>Mckinney</td>\n      <td>Female</td>\n      <td>georgechan@example.org</td>\n      <td>+1-750-774-4128x33265</td>\n      <td>60000</td>\n    </tr>\n    <tr>\n      <th>998</th>\n      <td>Phelps</td>\n      <td>Male</td>\n      <td>wanda04@example.net</td>\n      <td>(915)292-2254</td>\n      <td>100000</td>\n    </tr>\n    <tr>\n      <th>999</th>\n      <td>Tran</td>\n      <td>Female</td>\n      <td>deannablack@example.org</td>\n      <td>079.752.5424x67259</td>\n      <td>90000</td>\n    </tr>\n  </tbody>\n</table>\n<p>1000 rows × 5 columns</p>\n</div>"
          },
          "metadata": {}
        }
      ],
      "execution_count": 36
    },
    {
      "cell_type": "code",
      "source": "# Display the first few rows of the dataframe\nprint(df.head())\n\n\n#In this code:\n\n#- usecols=['Last Name', 'Gender', 'Email', 'Phone', 'Salary'] specifies the columns to read from the file.",
      "metadata": {
        "trusted": true
      },
      "outputs": [
        {
          "name": "stdout",
          "text": "  Last Name  Gender                          Email               Phone  Salary\n0   Mahoney    Male            pwarner@example.org        857.139.8239   90000\n1    Rivers  Female  fergusonkatherine@example.net                 NaN   80000\n2    Lowery  Female            fhoward@example.org       (599)782-0605   50000\n3    Hooper    Male          zjohnston@example.com                 NaN   65000\n4      Rice  Female               elin@example.net  (390)417-1635x3010  100000\n",
          "output_type": "stream"
        }
      ],
      "execution_count": 37
    },
    {
      "cell_type": "code",
      "source": "# c) Display the first 10 rows of the filtered dataset.\n\n#To display the first 10 rows of the filtered dataset, you can use the head() method:\n\n\n# Display the first 10 rows of the filtered dataset\nprint(df.head(10))\n\n\n#This will print the first 10 rows of the DataFrame df. If you want to display more or fewer rows, you can adjust the number inside the parentheses.",
      "metadata": {
        "trusted": true
      },
      "outputs": [
        {
          "name": "stdout",
          "text": "  Last Name  Gender                          Email               Phone  Salary\n0   Mahoney    Male            pwarner@example.org        857.139.8239   90000\n1    Rivers  Female  fergusonkatherine@example.net                 NaN   80000\n2    Lowery  Female            fhoward@example.org       (599)782-0605   50000\n3    Hooper    Male          zjohnston@example.com                 NaN   65000\n4      Rice  Female               elin@example.net  (390)417-1635x3010  100000\n5  Caldwell    Male          kaitlin13@example.net          8537800927   50000\n6   Hoffman    Male         jeffharvey@example.com   093.655.7480x7895   60000\n7  Andersen    Male           alicia33@example.org          4709522945   65000\n8      Mays    Male             jake50@example.com        013.820.4758   50000\n9  Mitchell    Male      lanechristina@example.net  (560)903-5068x4985   50000\n",
          "output_type": "stream"
        }
      ],
      "execution_count": 39
    },
    {
      "cell_type": "code",
      "source": "#Alternatively, you can use the iloc attribute to achieve the same result:\n\n\n# Display the first 10 rows of the filtered dataset\nprint(df.iloc[:10])\n\n\n#Both of these methods will display the first 10 rows of the filtered dataset.",
      "metadata": {
        "trusted": true
      },
      "outputs": [
        {
          "name": "stdout",
          "text": "  Last Name  Gender                          Email               Phone  Salary\n0   Mahoney    Male            pwarner@example.org        857.139.8239   90000\n1    Rivers  Female  fergusonkatherine@example.net                 NaN   80000\n2    Lowery  Female            fhoward@example.org       (599)782-0605   50000\n3    Hooper    Male          zjohnston@example.com                 NaN   65000\n4      Rice  Female               elin@example.net  (390)417-1635x3010  100000\n5  Caldwell    Male          kaitlin13@example.net          8537800927   50000\n6   Hoffman    Male         jeffharvey@example.com   093.655.7480x7895   60000\n7  Andersen    Male           alicia33@example.org          4709522945   65000\n8      Mays    Male             jake50@example.com        013.820.4758   50000\n9  Mitchell    Male      lanechristina@example.net  (560)903-5068x4985   50000\n",
          "output_type": "stream"
        }
      ],
      "execution_count": 40
    },
    {
      "cell_type": "code",
      "source": "# d) Extract the ‘Salary’' column as a Series and display its last 5 values.\n\n#To extract the 'Salary' column as a Series and display its last 5 values, you can use the following code:\n\n\n# Extract the 'Salary' column as a Series\nsalary_series = df['Salary']\n\n# Display the last 5 values of the 'Salary' Series\nprint(salary_series.tail(5))\n\n\n#In this code:\n\n#- df['Salary'] extracts the 'Salary' column as a Series.\n#- tail(5) returns the last 5 values of the Series.\n\n#This will print the last 5 values of the 'Salary' Series. If you want to display more or fewer values, you can adjust the number inside the parentheses.",
      "metadata": {
        "trusted": true
      },
      "outputs": [
        {
          "name": "stdout",
          "text": "995     90000\n996     50000\n997     60000\n998    100000\n999     90000\nName: Salary, dtype: int64\n",
          "output_type": "stream"
        }
      ],
      "execution_count": 42
    },
    {
      "cell_type": "code",
      "source": "#9. Filter and select rows from the People_Dataset, where the “Last Name' column contains the name 'Duke', 'Gender' column contains the word Female and 'Salary' should be less than 85000.\n\n##Ans.To filter and select rows from the People_Data where the \"Last Name\" column contains the name 'Duke', 'Gender' column contains the word Female, and 'Salary' is less than 85000, you can use the following code:\n\n\n# Filter and select rows based on conditions\nfiltered_data = df[(df['Last Name'] == 'Duke') & (df['Gender'] == 'Female') & (df['Salary'] < 85000)]\n\n# Display the filtered data\nprint(filtered_data)\n\n\n# In this code:\n\n# - df['Last Name'] == 'Duke' filters rows where the \"Last Name\" column is 'Duke'.\n# - df['Gender'] == 'Female' filters rows where the \"Gender\" column is 'Female'.\n# - df['Salary'] < 85000 filters rows where the \"Salary\" column is less than 85000.\n# - The & operator is used to combine the conditions with a logical AND.\n\n# This will display the rows that match all the specified conditions.",
      "metadata": {
        "trusted": true
      },
      "outputs": [
        {
          "name": "stdout",
          "text": "    Last Name  Gender                     Email                   Phone  \\\n45       Duke  Female       diana26@example.net  001-366-475-8607x04350   \n210      Duke  Female       robin78@example.com            740.434.0212   \n457      Duke  Female  perryhoffman@example.org     +1-903-596-0995x489   \n729      Duke  Female   kevinkramer@example.net            982.692.6257   \n\n     Salary  \n45    60000  \n210   50000  \n457   50000  \n729   70000  \n",
          "output_type": "stream"
        }
      ],
      "execution_count": 43
    },
    {
      "cell_type": "code",
      "source": "#10. Create a 7*5 Dataframe in pandas using a series generated from 35 random integers between 1 to 6?\n\n\n##Ans.Here's how you can create a 7x5 DataFrame in pandas using a series generated from 35 random integers between 1 to 6:\n\n\nimport pandas as pd\nimport numpy as np\n\n# Generate a series of 35 random integers between 1 to 6\nrandom_series = pd.Series(np.random.randint(1, 7, 35))\n\n# Reshape the series into a 7x5 DataFrame\ndf = random_series.values.reshape(7, 5)\n\n# Create a DataFrame\ndf = pd.DataFrame(df)\n\nprint(df)\n\n\n# In this code:\n\n# - np.random.randint(1, 7, 35) generates an array of 35 random integers between 1 to 6.\n# - pd.Series() converts the array into a pandas Series.\n# - values.reshape(7, 5) reshapes the series into a 7x5 array.\n# - pd.DataFrame() converts the array into a DataFrame.\n\n# This will create a 7x5 DataFrame with random integers between 1 to 6.",
      "metadata": {
        "trusted": true
      },
      "outputs": [
        {
          "name": "stdout",
          "text": "   0  1  2  3  4\n0  3  4  4  3  6\n1  2  6  2  4  3\n2  6  4  2  1  4\n3  2  5  5  4  2\n4  4  1  1  6  2\n5  6  6  5  2  2\n6  1  4  4  3  5\n",
          "output_type": "stream"
        }
      ],
      "execution_count": 45
    },
    {
      "cell_type": "code",
      "source": "#11. Create two different Series, each of length 50, with the following criteria:\n#a) The first Series should contain random numbers ranging from 10 to 50.\n#b) The second Series should contain random numbers ranging from 100 to 1000.\n#c) Create a DataFrame by 'joining these Series by column, and, change the names of the columns to 'col1', 'col2', etc.\n\n\n##Ans.Here's how you can create the two Series and the DataFrame:\n\n\nimport pandas as pd\nimport numpy as np\n\n# Create the first Series with random numbers ranging from 10 to 50\nseries1 = pd.Series(np.random.randint(10, 51, 50))\n\n# Create the second Series with random numbers ranging from 100 to 1000\nseries2 = pd.Series(np.random.randint(100, 1001, 50))\n\n# Create a DataFrame by joining the Series by column\ndf = pd.concat([series1, series2], axis=1)\n\n# Change the names of the columns to 'col1', 'col2'\ndf.columns = ['col1', 'col2']\n\nprint(df)\n\n\n# In this code:\n\n# - np.random.randint(10, 51, 50) generates an array of 50 random integers between 10 and 50.\n# - np.random.randint(100, 1001, 50) generates an array of 50 random integers between 100 and 1000.\n# - pd.Series() converts the arrays into pandas Series.\n# - pd.concat() joins the Series by column.\n# - axis=1 specifies that the Series should be joined by column.\n# - df.columns = ['col1', 'col2'] changes the names of the columns to 'col1' and 'col2'.\n\n# This will create a DataFrame with two columns, 'col1' and 'col2', each containing 50 random numbers within the specified ranges.",
      "metadata": {
        "trusted": true
      },
      "outputs": [
        {
          "name": "stdout",
          "text": "    col1  col2\n0     50   996\n1     32   559\n2     41   135\n3     15   298\n4     23   472\n5     22   427\n6     13   100\n7     13   702\n8     13   515\n9     35   948\n10    37   216\n11    17   189\n12    17   272\n13    25   674\n14    36   220\n15    23   165\n16    25   310\n17    40   335\n18    32   730\n19    44   611\n20    41   894\n21    50   914\n22    14   562\n23    42   539\n24    14   436\n25    25   621\n26    11   115\n27    36   194\n28    14   938\n29    34   418\n30    14   167\n31    29   609\n32    44   662\n33    20   329\n34    34   869\n35    46   622\n36    19   240\n37    47   372\n38    33   228\n39    38   550\n40    32   478\n41    30   879\n42    17   788\n43    41   958\n44    40   358\n45    25   838\n46    20   696\n47    49   348\n48    33   191\n49    37   312\n",
          "output_type": "stream"
        }
      ],
      "execution_count": 46
    },
    {
      "cell_type": "code",
      "source": "# 12. Perform the following operations using people data set:\n# a) Delete the 'Email', 'Phone', and 'Date of birth' columns from the dataset.\n# b) Delete the rows containing any missing values.\n# c) Print the final output also.\n\n\n##Ans.Here's how you can perform the operations using the people dataset:\n\n\nimport pandas as pd\n\n# Load the people dataset\ndf = pd.read_csv('People Data.csv')\n\n# a) Delete the 'Email', 'Phone', and 'Date of birth' columns from the dataset\ndf = df.drop(['Email', 'Phone', 'Date of birth'], axis=1)\n\n# b) Delete the rows containing any missing values\ndf = df.dropna(how='any')\n\n# c) Print the final output\nprint(df)\n\n\n# In this code:\n\n# - pd.read_csv('people_data.csv') loads the people dataset from the CSV file.\n# - df.drop(['Email', 'Phone', 'Date of birth'], axis=1) deletes the 'Email', 'Phone', and 'Date of birth' columns from the dataset.\n# - df.dropna(how='any') deletes the rows containing any missing values.\n# - print(df) prints the final output.\n\n# Note: Make sure to replace 'people_data.csv' with the actual path to your dataset file.\n\n# Also, be aware that deleting rows with missing values might lead to loss of important information. You might want to consider imputing missing values instead, depending on your specific use case.",
      "metadata": {
        "trusted": true
      },
      "outputs": [
        {
          "name": "stdout",
          "text": "     Index          User Id First Name Last Name  Gender  \\\n0        1  8717bbf45cCDbEe     Shelia   Mahoney    Male   \n1        2  3d5AD30A4cD38ed         Jo    Rivers  Female   \n2        3  810Ce0F276Badec     Sheryl    Lowery  Female   \n3        4  BF2a889C00f0cE1    Whitney    Hooper    Male   \n4        5  9afFEafAe1CBBB9    Lindsey      Rice  Female   \n..     ...              ...        ...       ...     ...   \n995    996  fedF4c7Fd9e7cFa       Kurt    Bryant  Female   \n996    997  ECddaFEDdEc4FAB      Donna     Barry  Female   \n997    998  2adde51d8B8979E      Cathy  Mckinney  Female   \n998    999  Fb2FE369D1E171A   Jermaine    Phelps    Male   \n999   1000  8b756f6231DDC6e        Lee      Tran  Female   \n\n                           Job Title  Salary  \n0                  Probation officer   90000  \n1                             Dancer   80000  \n2                               Copy   50000  \n3           Counselling psychologist   65000  \n4                Biomedical engineer  100000  \n..                               ...     ...  \n995                Personnel officer   90000  \n996          Education administrator   50000  \n997  Commercial/residential surveyor   60000  \n998                 Ambulance person  100000  \n999       Nurse, learning disability   90000  \n\n[1000 rows x 7 columns]\n",
          "output_type": "stream"
        }
      ],
      "execution_count": 47
    },
    {
      "cell_type": "code",
      "source": "# 13. Create two NumPy arrays, x and y, each containing 100 random float values between 0 and 1. Perform the following tasks using Matplotlib and NumPy:\n# a) Create a scatter plot using x and y, setting the color of the points to red and the marker style to 'o'.\n# b) Add a horizontal line at y = 0.5 using a dashed line style and label it as 'y = 0.5'.\n# c) Add a vertical line at x = 0.5 using a dotted line style and label it as 'x = 0.5'.\n# d) Label the x-axis as 'X-axis' and the y-axis as 'Y-axis'.\n# e) Set the title of the plot as 'Advanced Scatter Plot of Random Values'.\n# f) Display a legend for the scatter plot, the horizontal line, and the vertical line.\n\n\n##Ans.Here's how you can perform the tasks using Matplotlib and NumPy:\n\n\nimport matplotlib.pyplot as plt\nimport numpy as np\n\n# Create two NumPy arrays, x and y, each containing 100 random float values between 0 and 1\nx = np.random.rand(100)\ny = np.random.rand(100)\n\n# Create a scatter plot using x and y\nplt.scatter(x, y, color='red', marker='o', label='Random Values')\n\n# Add a horizontal line at y = 0.5 using a dashed line style and label it as 'y = 0.5'\nplt.axhline(y=0.5, color='black', linestyle='--', label='y = 0.5')\n\n# Add a vertical line at x = 0.5 using a dotted line style and label it as 'x = 0.5'\nplt.axvline(x=0.5, color='black', linestyle=':', label='x = 0.5')\n\n# Label the x-axis as 'X-axis' and the y-axis as 'Y-axis'\nplt.xlabel('X-axis')\nplt.ylabel('Y-axis')\n\n# Set the title of the plot as 'Advanced Scatter Plot of Random Values'\nplt.title('Advanced Scatter Plot of Random Values')\n\n# Display a legend for the scatter plot, the horizontal line, and the vertical line\nplt.legend()\n\n# Display the plot\nplt.show()\n\n\n# In this code:\n\n# - np.random.rand(100) generates 100 random float values between 0 and 1 for x and y.\n# - plt.scatter() creates the scatter plot.\n# - plt.axhline() adds the horizontal line.\n# - plt.axvline() adds the vertical line.\n# - plt.xlabel() and plt.ylabel() label the axes.\n# - plt.title() sets the title.\n# - plt.legend() displays the legend.\n# - plt.show() displays the plot.",
      "metadata": {
        "trusted": true
      },
      "outputs": [],
      "execution_count": null
    },
    {
      "cell_type": "code",
      "source": "# 14. Create a time-series dataset in a Pandas DataFrame with columns: 'Date', 'Temperature', 'Humidity' and Perform the following tasks using Matplotlib:\n# a) Plot the 'Temperature' and 'Humidity' on the same plot with different y-axes (left y-axis for 'Temperature' and right y-axis for 'Humidity').\n# b) Label the x-axis as 'Date'.\n# c) Set the title of the plot as 'Temperature and Humidity Over Time'.\n\n\n##Ans.Here's how you can create the time-series dataset and perform the tasks using Matplotlib:\n\n\nimport pandas as pd\nimport matplotlib.pyplot as plt\nimport numpy as np\n\n# Create a time-series dataset in a Pandas DataFrame\ndate = pd.date_range(start='2022-01-01', end='2022-01-31')\ntemperature = np.random.uniform(20, 30, 31)\nhumidity = np.random.uniform(50, 90, 31)\n\ndf = pd.DataFrame({'Date': date, 'Temperature': temperature, 'Humidity': humidity})\n\n# Plot the 'Temperature' and 'Humidity' on the same plot with different y-axes\nfig, ax1 = plt.subplots()\nax1.plot(df['Date'], df['Temperature'], color='red')\nax1.set_xlabel('Date')\nax1.set_ylabel('Temperature (°C)', color='red')\nax1.tick_params(axis='y', labelcolor='red')\n\nax2 = ax1.twinx()\nax2.plot(df['Date'], df['Humidity'], color='blue')\nax2.set_ylabel('Humidity (%)', color='blue')\nax2.tick_params(axis='y', labelcolor='blue')\n\n# Set the title of the plot\nplt.title('Temperature and Humidity Over Time')\n\n# Display the plot\nplt.show()\n\n\n# In this code:\n\n# - pd.date_range() generates a date range for the 'Date' column.\n# - np.random.uniform() generates random values for the 'Temperature' and 'Humidity' columns.\n# - pd.DataFrame() creates the DataFrame.\n# - plt.subplots() creates a figure and axis object.\n# - ax1.plot() plots the 'Temperature' data on the left y-axis.\n# - ax1.set_xlabel() and ax1.set_ylabel() label the x-axis and left y-axis.\n# - ax2 = ax1.twinx() creates a secondary y-axis for 'Humidity'.\n# - ax2.plot() plots the 'Humidity' data on the right y-axis.\n# - ax2.set_ylabel() labels the right y-axis.\n# - plt.title() sets the title.\n# - plt.show() displays the plot.",
      "metadata": {
        "trusted": true
      },
      "outputs": [],
      "execution_count": null
    },
    {
      "cell_type": "code",
      "source": "# 15. Create a NumPy array data containing 1000 samples from a normal distribution. Perform the following tasks using Matplotlib:\n# a) Plot a histogram of the data with 30 bins.\n# b) Overlay a line plot representing the normal distribution's probability density function (PDF).\n# c) Label the x-axis as 'Value' and the y-axis as 'Frequency/Probability'.\n# d) Set the title of the plot as 'Histogram with PDF Overlay'.\n\n\n##Ans.Here's how you can create the NumPy array and perform the tasks using Matplotlib:\n\n\nimport matplotlib.pyplot as plt\nimport numpy as np\nfrom scipy.stats import norm\n\n# Create a NumPy array containing 1000 samples from a normal distribution\ndata = np.random.normal(loc=0, scale=1, size=1000)\n\n# Plot a histogram of the data with 30 bins\nplt.hist(data, bins=30, density=True, alpha=0.5, label='Histogram')\n\n# Overlay a line plot representing the normal distribution's probability density function (PDF)\nx = np.linspace(min(data), max(data), 100)\nplt.plot(x, norm.pdf(x, loc=0, scale=1), 'r-', label='Normal PDF')\n\n# Label the x-axis as 'Value' and the y-axis as 'Frequency/Probability'\nplt.xlabel('Value')\nplt.ylabel('Frequency/Probability')\n\n# Set the title of the plot\nplt.title('Histogram with PDF Overlay')\n\n# Display a legend\nplt.legend()\n\n# Display the plot\nplt.show()\n\n\n# In this code:\n\n# - np.random.normal() generates 1000 samples from a normal distribution.\n# - plt.hist() plots the histogram with 30 bins and normalized frequencies.\n# - np.linspace() generates x values for the PDF plot.\n# - norm.pdf() calculates the PDF values for the x values.\n# - plt.plot() plots the PDF line.\n# - plt.xlabel() and plt.ylabel() label the axes.\n# - plt.title() sets the title.\n# - plt.legend() displays a legend.\n# - plt.show() displays the plot.",
      "metadata": {
        "trusted": true
      },
      "outputs": [],
      "execution_count": null
    },
    {
      "cell_type": "code",
      "source": "#16. Set the title of the plot as 'Histogram with PDF Overlay'.\n\n\n##Ans.Here is the updated code with the title set:\n\n\nimport matplotlib.pyplot as plt\nimport numpy as np\nfrom scipy.stats import norm\n\n# Create a NumPy array containing 1000 samples from a normal distribution\ndata = np.random.normal(loc=0, scale=1, size=1000)\n\n# Plot a histogram of the data with 30 bins\nplt.hist(data, bins=30, density=True, alpha=0.5, label='Histogram')\n\n# Overlay a line plot representing the normal distribution's probability density function (PDF)\nx = np.linspace(min(data), max(data), 100)\nplt.plot(x, norm.pdf(x, loc=0, scale=1), 'r-', label='Normal PDF')\n\n# Label the x-axis as 'Value' and the y-axis as 'Frequency/Probability'\nplt.xlabel('Value')\nplt.ylabel('Frequency/Probability')\n\n# Set the title of the plot\nplt.title('Histogram with PDF Overlay')\n\n# Display a legend\nplt.legend()\n\n# Display the plot\nplt.show()\n\n\n#Now, when you run this code, the plot will have the title \"Histogram with PDF Overlay\".",
      "metadata": {
        "trusted": true
      },
      "outputs": [],
      "execution_count": null
    },
    {
      "cell_type": "code",
      "source": "#17. Create a Seaborn scatter plot of two random arrays, color points based on their position relative to the origin(quadrants), add a legend , label the axes, and set the title as 'Quadrant-wise Scatter Plot'.  \n\n\n##Ans. Here's the code to create the Seaborn scatter plot:\n\n\nimport seaborn as sns\nimport matplotlib.pyplot as plt\nimport numpy as np\n\n# Create two random arrays\nx = np.random.randn(100)\ny = np.random.randn(100)\n\n# Create a Seaborn scatter plot\nplt.figure(figsize=(8, 8))\nsns.scatterplot(x=x, y=y, hue=np.where((x > 0) & (y > 0), 'Q1', np.where((x < 0) & (y > 0), 'Q2', np.where((x < 0) & (y < 0), 'Q3', 'Q4'))), palette=['red', 'green', 'blue', 'yellow'])\n\n# Add a legend\nplt.legend(title='Quadrants', loc='upper right')\n\n# Label the axes\nplt.xlabel('X-axis')\nplt.ylabel('Y-axis')\n\n# Set the title\nplt.title('Quadrant-wise Scatter Plot')\n\n# Show the plot\nplt.show()\n\n\n#This code creates a Seaborn scatter plot of two random arrays, colors points based on their position relative to the origin (quadrants), adds a legend, labels the axes, and sets the title as 'Quadrant-wise Scatter Plot'. The points are colored as follows:\n\n#- Red: Q1 (x > 0, y > 0)\n#- Green: Q2 (x < 0, y > 0)\n#- Blue: Q3 (x < 0, y < 0)\n#- Yellow: Q4 (x > 0, y < 0)\n",
      "metadata": {
        "trusted": true
      },
      "outputs": [],
      "execution_count": null
    },
    {
      "cell_type": "code",
      "source": "#18.With Bokeh, plot a line chart of a sine wave function, add grid lines, label the axes, and set the title as 'Sine Wave Function'\n\n\n##Ans.Here is the code to plot a line chart of a sine wave function using Bokeh:\n\n\nimport numpy as np\nfrom bokeh.plotting import figure, show\n\n# Create a sine wave function\nx = np.linspace(0, 4*np.pi, 100)\ny = np.sin(x)\n\n# Create a Bokeh plot\np = figure(title='Sine Wave Function', \n           x_axis_label='x', \n           y_axis_label='sin(x)')\n\n# Add grid lines\np.grid.grid_line_alpha = 0.3\n\n# Plot the sine wave function\np.line(x, y, legend_label='sin(x)', line_width=2)\n\n# Show the plot\nshow(p)\n\n\n#This code creates a sine wave function using NumPy, then uses Bokeh to create a plot with a title, labeled axes, and grid lines. The sine wave function is plotted as a line, and the plot is displayed using the show() function.",
      "metadata": {
        "trusted": true
      },
      "outputs": [],
      "execution_count": null
    },
    {
      "cell_type": "code",
      "source": "#19.Using Bokeh, generate a bar chart of randomly generated categorical data, color bars based on their values, add hover tooltips to display exact values, label the axes, and set the title as 'Random Categorical Bar Chart'.\n\n\n\n##Ans.Here is the code to generate a bar chart of randomly generated categorical data using Bokeh:\n\n\nimport numpy as np\nfrom bokeh.plotting import figure, show\nfrom bokeh.models import HoverTool\n\n# Generate random categorical data\ncategories = ['A', 'B', 'C', 'D', 'E']\nvalues = np.random.randint(1, 100, 5)\n\n# Create a Bokeh plot\np = figure(title='Random Categorical Bar Chart', \n           x_axis_label='Category', \n           y_axis_label='Value', \n           x_range=categories)\n\n# Add hover tooltips\nhover = HoverTool(tooltips=[(\"Category\", \"@x\"), (\"Value\", \"@top\")])\np.add_tools(hover)\n\n# Plot the bar chart\np.vbar(x=categories, top=values, width=0.5, \n       fill_color=['red' if val > 50 else 'blue' for val in values])\n\n# Show the plot\nshow(p)\n\n\n#This code generates random categorical data, creates a Bokeh plot with a title, labeled axes, and hover tooltips, and plots a bar chart with bars colored based on their values. The plot is displayed using the show() function.",
      "metadata": {
        "trusted": true
      },
      "outputs": [],
      "execution_count": null
    },
    {
      "cell_type": "code",
      "source": "#20.Using Plotly, create a basic line plot of a randomly generated dataset, label the axes, and set the title as 'Simple Line Plot'.\n\n\n##Ans.Here is the code to create a basic line plot using Plotly:\n\n\nimport plotly.graph_objects as go\nimport numpy as np\n\n# Generate random dataset\nx = np.linspace(0, 10, 100)\ny = np.random.uniform(0, 10, 100)\n\n# Create a Plotly figure\nfig = go.Figure(data=[go.Scatter(x=x, y=y)])\n\n# Label the axes and set the title\nfig.update_layout(\n    title='Simple Line Plot',\n    xaxis_title='X Axis',\n    yaxis_title='Y Axis'\n)\n\n# Show the plot\nfig.show()\n\n\n# This code generates a random dataset, creates a Plotly figure with a line plot, labels the axes, and sets the title. The plot is displayed using the show() method.\n\n# You can also customize the appearance of the plot by using various options available in the update_layout() method, such as changing the font size, color scheme, and more.",
      "metadata": {
        "trusted": true
      },
      "outputs": [],
      "execution_count": null
    },
    {
      "cell_type": "code",
      "source": "#21.Using Plotly, create an interactive pie chart of randomly generated data, add labels and percentages, set the title as 'Interactive Pie Chart'.\n\n\n##Ans.Here is the code to create an interactive pie chart using Plotly:\n\n\nimport plotly.graph_objects as go\nimport numpy as np\n\n# Generate random data\nlabels = ['A', 'B', 'C', 'D', 'E']\nvalues = np.random.randint(1, 100, 5)\n\n# Create a Plotly figure\nfig = go.Figure(data=[go.Pie(labels=labels, values=values, textinfo='label+percent')])\n\n# Set the title\nfig.update_layout(title='Interactive Pie Chart')\n\n# Show the plot\nfig.show()\n\n\n# This code generates random data, creates a Plotly figure with a pie chart, adds labels and percentages, and sets the title. The plot is displayed using the show() method.\n\n# You can customize the appearance of the plot by using various options available in the update_layout() method, such as changing the font size, color scheme, and more. The pie chart is interactive, allowing you to hover over each slice to see the exact value and percentage.",
      "metadata": {
        "trusted": true
      },
      "outputs": [],
      "execution_count": null
    },
    {
      "cell_type": "code",
      "source": "",
      "metadata": {
        "trusted": true
      },
      "outputs": [],
      "execution_count": null
    }
  ]
}